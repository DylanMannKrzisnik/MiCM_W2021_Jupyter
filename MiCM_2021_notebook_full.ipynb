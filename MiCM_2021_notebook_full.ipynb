{
 "cells": [
  {
   "cell_type": "markdown",
   "metadata": {
    "slideshow": {
     "slide_type": "skip"
    }
   },
   "source": [
    "# Welcome !\n",
    "\n",
    "This may be the first time using Jupyter notebooks, a great tool for reproducible research. In addition to providing a a web application for coding in Python, Julia and R (and beyond), Jupyter notebooks allow one to directly embed:\n",
    "\n",
    " - text (as you may have realized already);\n",
    " - figures;\n",
    " <img src=\"MiCM_logo.png\" width=\"400\">\n",
    " - Equations;\n",
    " $$\\large Av=\\lambda v$$\n",
    " \n",
    " \n",
    " - URL links towards e.g. the [Github repository](https://github.com/DylanMannKrzisnik/MiCM_W2021_Jupyter.git) housing the scripts and data needed for this workshop;\n",
    " - and so much more, like Youtube videos, PDF documents and - more relevant to this workshop - graphs and plots for visualizing your data and results\n",
    " "
   ]
  },
  {
   "cell_type": "markdown",
   "metadata": {
    "slideshow": {
     "slide_type": "skip"
    }
   },
   "source": [
    "We often need to use Python *packages* to accomplish a desired task, such as embedding a webpage or Youtube video:"
   ]
  },
  {
   "cell_type": "code",
   "execution_count": null,
   "metadata": {
    "slideshow": {
     "slide_type": "skip"
    }
   },
   "outputs": [],
   "source": [
    "from IPython.display import IFrame"
   ]
  },
  {
   "cell_type": "code",
   "execution_count": null,
   "metadata": {
    "slideshow": {
     "slide_type": "skip"
    }
   },
   "outputs": [],
   "source": [
    "IFrame('https://en.wikipedia.org/wiki/Internet_meme', width=975, height=300)"
   ]
  },
  {
   "cell_type": "markdown",
   "metadata": {},
   "source": [
    "# exercise: create link"
   ]
  },
  {
   "cell_type": "code",
   "execution_count": null,
   "metadata": {},
   "outputs": [],
   "source": [
    "from IPython.display import YouTubeVideo"
   ]
  },
  {
   "cell_type": "code",
   "execution_count": null,
   "metadata": {},
   "outputs": [],
   "source": [
    "YouTubeVideo('owSGVOov9pQ', width=800, height=300)"
   ]
  },
  {
   "cell_type": "markdown",
   "metadata": {},
   "source": [
    "## Jupyter, an interactive Python command shell (i.e. IPython)\n",
    "\n",
    "The IPython shell offers users an interactive environment, enabling easy navigation through *directories* and access to data. We can use many of the **BASH** commands which we'd usually run in a Terminal:\n",
    "\n",
    "<img src=\"BASH_terminal.png\" width=\"800\">"
   ]
  },
  {
   "cell_type": "markdown",
   "metadata": {},
   "source": [
    "So, rather than listing the content of our directory by executing the *'ls'* BASH command in a Terminal, we can execute *'ls'* directly from a *code cell*:"
   ]
  },
  {
   "cell_type": "code",
   "execution_count": null,
   "metadata": {},
   "outputs": [],
   "source": [
    "#ls"
   ]
  },
  {
   "cell_type": "markdown",
   "metadata": {},
   "source": [
    "Another BASH terminal command we could try is the *cat* command to display the content of a file:"
   ]
  },
  {
   "cell_type": "code",
   "execution_count": null,
   "metadata": {},
   "outputs": [],
   "source": [
    "#cat README.md"
   ]
  },
  {
   "cell_type": "markdown",
   "metadata": {},
   "source": [
    "We can also verify the path to our current directory using *pwd*:"
   ]
  },
  {
   "cell_type": "code",
   "execution_count": null,
   "metadata": {},
   "outputs": [],
   "source": [
    "#pwd"
   ]
  },
  {
   "cell_type": "markdown",
   "metadata": {},
   "source": [
    "Create new (sub)directory \"data\" and list content of current directory. Note that some BASH commands such as *mkdir* must be preceded by *!*:"
   ]
  },
  {
   "cell_type": "code",
   "execution_count": null,
   "metadata": {},
   "outputs": [],
   "source": [
    "#!mkdir data\n",
    "#ls"
   ]
  },
  {
   "cell_type": "markdown",
   "metadata": {},
   "source": [
    "Move EEG data into \"data\" subdirectory using *mv* and list content of current directory (can use tab completion). We will be using this EEG data as an exercise later on:"
   ]
  },
  {
   "cell_type": "code",
   "execution_count": null,
   "metadata": {},
   "outputs": [],
   "source": [
    "#mv sub-010321_EC_downsamp.fdt data/\n",
    "#ls"
   ]
  },
  {
   "cell_type": "markdown",
   "metadata": {},
   "source": [
    "We can also use *wildcards* for referring to files with a known structure to their filename:"
   ]
  },
  {
   "cell_type": "code",
   "execution_count": null,
   "metadata": {},
   "outputs": [],
   "source": [
    "#mv *set\n",
    "#ls"
   ]
  },
  {
   "cell_type": "markdown",
   "metadata": {},
   "source": [
    "Navigate to \"data\" using *cd* and display new location with *pwd*. Then, list content of current directory (which is now \"data\"):"
   ]
  },
  {
   "cell_type": "code",
   "execution_count": null,
   "metadata": {},
   "outputs": [],
   "source": [
    "#cd data/"
   ]
  },
  {
   "cell_type": "code",
   "execution_count": null,
   "metadata": {},
   "outputs": [],
   "source": [
    "#pwd"
   ]
  },
  {
   "cell_type": "code",
   "execution_count": null,
   "metadata": {},
   "outputs": [],
   "source": [
    "#ls"
   ]
  },
  {
   "cell_type": "markdown",
   "metadata": {},
   "source": [
    "Navigate back to previous directory and verify that now in proper directory:"
   ]
  },
  {
   "cell_type": "code",
   "execution_count": null,
   "metadata": {},
   "outputs": [],
   "source": [
    "#cd ..\n",
    "#pwd"
   ]
  },
  {
   "cell_type": "markdown",
   "metadata": {},
   "source": [
    "## ..."
   ]
  },
  {
   "cell_type": "markdown",
   "metadata": {},
   "source": [
    "Code cells can also be used to compute mathematical expressions:"
   ]
  },
  {
   "cell_type": "code",
   "execution_count": null,
   "metadata": {},
   "outputs": [],
   "source": [
    "# 2+3"
   ]
  },
  {
   "cell_type": "markdown",
   "metadata": {},
   "source": [
    "In Python, the symbol for calculating powers of a number is ** (double asterisk). We can come up with a 'funky sum':"
   ]
  },
  {
   "cell_type": "code",
   "execution_count": null,
   "metadata": {},
   "outputs": [],
   "source": [
    "# 2**3 + 3**2"
   ]
  },
  {
   "cell_type": "markdown",
   "metadata": {},
   "source": [
    "We may want to automate our funky sum by creating a dedicated function:"
   ]
  },
  {
   "cell_type": "code",
   "execution_count": null,
   "metadata": {},
   "outputs": [],
   "source": [
    "def funky_sum(x,y):\n",
    "    \n",
    "    '''\n",
    "    With inputs x and y, the funky sum is computed as x**y + y**x.\n",
    "\n",
    "    Parameters\n",
    "    ----------\n",
    "    x : first term\n",
    "    y : second term\n",
    "    '''\n",
    "    \n",
    "    z = x**y + y**x\n",
    "    \n",
    "    return z"
   ]
  },
  {
   "cell_type": "code",
   "execution_count": null,
   "metadata": {},
   "outputs": [],
   "source": [
    "# funky_sum(2,3)"
   ]
  },
  {
   "cell_type": "markdown",
   "metadata": {},
   "source": [
    "We can use *input* to query users for the value of different variables:"
   ]
  },
  {
   "cell_type": "code",
   "execution_count": null,
   "metadata": {},
   "outputs": [],
   "source": [
    "x = input('1st term of funky sum: ')\n",
    "y = input('2nd term of funky sum: ')\n",
    "\n",
    "x = int(x)\n",
    "y = int(y)\n",
    "\n",
    "funky_sum(x,y)"
   ]
  },
  {
   "cell_type": "markdown",
   "metadata": {},
   "source": [
    "We had also redacted some documentation for 'funky_sum' which we can display using the *\\_\\_doc\\_\\_* *attribute*:"
   ]
  },
  {
   "cell_type": "code",
   "execution_count": null,
   "metadata": {},
   "outputs": [],
   "source": [
    "# print(funky_sum.__doc__)"
   ]
  },
  {
   "cell_type": "markdown",
   "metadata": {},
   "source": [
    "What other attribute was created when compiling our funky_sum function?"
   ]
  },
  {
   "cell_type": "code",
   "execution_count": null,
   "metadata": {
    "scrolled": true
   },
   "outputs": [],
   "source": [
    "# dir(funky_sum)"
   ]
  },
  {
   "cell_type": "markdown",
   "metadata": {},
   "source": [
    "Let's copy funky_sum and include an additional default argument:"
   ]
  },
  {
   "cell_type": "code",
   "execution_count": null,
   "metadata": {},
   "outputs": [],
   "source": [
    "'''\n",
    "def funky_sum_offset(x,y,b=2):\n",
    "\n",
    "    '''\n",
    "    With inputs x and y, the funky sum is computed as x**y + y**x + b.\n",
    "\n",
    "    Parameters\n",
    "    ----------\n",
    "    x : first term\n",
    "    y : second term\n",
    "    b : offset parameter (b=2 by default)\n",
    "    '''\n",
    "\n",
    "    z = x**y + y**x + b\n",
    "\n",
    "    return z\n",
    "'''"
   ]
  },
  {
   "cell_type": "code",
   "execution_count": null,
   "metadata": {},
   "outputs": [],
   "source": [
    "#funky_sum_offset(2,3)"
   ]
  },
  {
   "cell_type": "markdown",
   "metadata": {},
   "source": [
    "Let's now try the *\\_\\_defaults\\_\\_* attribute of our new function:"
   ]
  },
  {
   "cell_type": "code",
   "execution_count": null,
   "metadata": {},
   "outputs": [],
   "source": [
    "#funky_sum_offset.__defaults__"
   ]
  },
  {
   "cell_type": "code",
   "execution_count": null,
   "metadata": {},
   "outputs": [],
   "source": [
    "#funky_sum.__defaults__"
   ]
  },
  {
   "cell_type": "markdown",
   "metadata": {},
   "source": [
    "In addition to *attributes*, functions also have built-in subfunctions called *methods*:"
   ]
  },
  {
   "cell_type": "code",
   "execution_count": null,
   "metadata": {
    "scrolled": true
   },
   "outputs": [],
   "source": [
    "#funky_sum.__dir__()"
   ]
  },
  {
   "cell_type": "markdown",
   "metadata": {},
   "source": [
    "The *dir* function is also useful when exploring the content of a *class*. Let's create our own class to see how this is useful:"
   ]
  },
  {
   "cell_type": "code",
   "execution_count": null,
   "metadata": {},
   "outputs": [],
   "source": [
    "'''\n",
    "class funky_class():\n",
    "    \n",
    "    '''\n",
    "    A class for using funky sums.\n",
    "    '''\n",
    "    \n",
    "    def funky_sum(x,y):\n",
    "    \n",
    "        '''\n",
    "        With inputs x and y, the funky sum is computed as x**y + y**x.\n",
    "\n",
    "        Parameters\n",
    "        ----------\n",
    "        x : first term\n",
    "        y : second term\n",
    "        '''\n",
    "\n",
    "        z = x**y + y**x\n",
    "\n",
    "        return z\n",
    "    \n",
    "    \n",
    "    def funky_sum_offset(x,y,b=2):\n",
    "\n",
    "        '''\n",
    "        With inputs x and y, the funky sum is computed as x**y + y**x + b.\n",
    "\n",
    "        Parameters\n",
    "        ----------\n",
    "        x : first term\n",
    "        y : second term\n",
    "        b : offset parameter (b=2 by default)\n",
    "        '''\n",
    "\n",
    "        z = x**y + y**x + b\n",
    "\n",
    "        return z\n",
    "\n",
    "'''"
   ]
  },
  {
   "cell_type": "markdown",
   "metadata": {},
   "source": [
    "Let's now test our new class and its functions:"
   ]
  },
  {
   "cell_type": "code",
   "execution_count": null,
   "metadata": {},
   "outputs": [],
   "source": [
    "#print(funky_class.__doc__)"
   ]
  },
  {
   "cell_type": "code",
   "execution_count": null,
   "metadata": {},
   "outputs": [],
   "source": [
    "#dir(funky_class)"
   ]
  },
  {
   "cell_type": "code",
   "execution_count": null,
   "metadata": {},
   "outputs": [],
   "source": [
    "#funky_class.funky_sum(2,3)"
   ]
  },
  {
   "cell_type": "code",
   "execution_count": null,
   "metadata": {},
   "outputs": [],
   "source": [
    "#funky_class.funky_sum_offset(2,3)"
   ]
  },
  {
   "cell_type": "markdown",
   "metadata": {},
   "source": [
    "Let's create some *numpy arrays* for doing funky sums. First, we'll import the *numpy* package and we'll give it the shorthand name 'np':"
   ]
  },
  {
   "cell_type": "code",
   "execution_count": null,
   "metadata": {},
   "outputs": [],
   "source": [
    "import numpy as np"
   ]
  },
  {
   "cell_type": "code",
   "execution_count": null,
   "metadata": {},
   "outputs": [],
   "source": [
    "#x = np.arange(0,3)\n",
    "\n",
    "#print('The elements of x are:',x)\n",
    "#print('Said otherwise, there are {} elements in x'.format( len(x) ))"
   ]
  },
  {
   "cell_type": "code",
   "execution_count": null,
   "metadata": {},
   "outputs": [],
   "source": [
    "#y = np.random.uniform(0,1, len(x) )\n",
    "#print('The {} elements of y are {}'.format( len(y) , y ))"
   ]
  },
  {
   "cell_type": "markdown",
   "metadata": {},
   "source": [
    "In the same way we provided numpy with the shorthand name 'np', we provide our custom 'funky_class.funky_sum_offset' function a shorthand name as well:"
   ]
  },
  {
   "cell_type": "code",
   "execution_count": null,
   "metadata": {},
   "outputs": [],
   "source": [
    "#fs = funky_class.funky_sum_offset"
   ]
  },
  {
   "cell_type": "code",
   "execution_count": null,
   "metadata": {},
   "outputs": [],
   "source": [
    "#z = fs(x[0],y[0])\n",
    "print('The funky sum between the first element of x (i.e. {}) and first element of y (i.e. {:.2}) is {}'.format( x[0] , y[0] , z ))"
   ]
  },
  {
   "cell_type": "markdown",
   "metadata": {},
   "source": [
    "What happens if we input the full 'x' and 'y' arrays rather than just a single of their elements?"
   ]
  },
  {
   "cell_type": "code",
   "execution_count": null,
   "metadata": {},
   "outputs": [],
   "source": [
    "#z = fs(x,y)\n",
    "#print('The funky sum between \\n the elements of x (i.e. {}) \\n and elements of y (i.e. {}) \\n\\t is {}'.format( x , y , z ))"
   ]
  },
  {
   "cell_type": "markdown",
   "metadata": {},
   "source": [
    "One important feature of Jupyter notebooks is the ability to generate plots side-by-side with your code.\n",
    "\n",
    "Let's plot the arrays used for doing funky sums. First we'll need to import *matplotlib.pyplot*:"
   ]
  },
  {
   "cell_type": "code",
   "execution_count": null,
   "metadata": {},
   "outputs": [],
   "source": [
    "import matplotlib.pyplot as plt"
   ]
  },
  {
   "cell_type": "code",
   "execution_count": null,
   "metadata": {},
   "outputs": [],
   "source": [
    "'''\n",
    "plt.figure()\n",
    "\n",
    "plt.plot(x, marker='o')\n",
    "plt.plot(y, marker='o')\n",
    "plt.plot(z, marker='o')\n",
    "\n",
    "plt.xticks([0,1,2], [\"1st element\",\"2nd element\",\"3rd element\"])\n",
    "plt.xlabel(\"Elements\")\n",
    "plt.ylabel(\"Values\")\n",
    "\n",
    "plt.legend([\"x\",\"y\",\"z\"])\n",
    "\n",
    "plt.show()\n",
    "'''"
   ]
  },
  {
   "cell_type": "markdown",
   "metadata": {},
   "source": [
    "Let's now repeat the process of creating and plotting the x, y, z arrays for different offset values:"
   ]
  },
  {
   "cell_type": "code",
   "execution_count": null,
   "metadata": {},
   "outputs": [],
   "source": [
    "'''\n",
    "plt.figure()\n",
    "\n",
    "offset = 2\n",
    "z = fs(x,y, offset)\n",
    "plt.subplot(2,2,1)\n",
    "plt.plot(x, marker='o')\n",
    "plt.plot(y, marker='o')\n",
    "plt.plot(z, marker='o')\n",
    "plt.xticks([])\n",
    "plt.title('z = {}'.format(offset))\n",
    "\n",
    "offset = 0\n",
    "z = fs(x,y, offset)\n",
    "plt.subplot(2,2,2)\n",
    "plt.plot(x, marker='o')\n",
    "plt.plot(y, marker='o')\n",
    "plt.plot(z, marker='o')\n",
    "plt.xticks([])\n",
    "plt.title('z = {}'.format(offset))\n",
    "\n",
    "offset = -2\n",
    "z = fs(x,y, offset)\n",
    "plt.subplot(2,2,3)\n",
    "plt.plot(x, marker='o')\n",
    "plt.plot(y, marker='o')\n",
    "plt.plot(z, marker='o')\n",
    "plt.xticks([])\n",
    "plt.title('z = {}'.format(offset))\n",
    "\n",
    "offset = -1\n",
    "z = fs(x,y, offset)\n",
    "plt.subplot(2,2,4)\n",
    "plt.plot(x, marker='o')\n",
    "plt.plot(y, marker='o')\n",
    "plt.plot(z, marker='o')\n",
    "plt.xticks([])\n",
    "plt.title('z = {}'.format(offset))\n",
    "\n",
    "plt.suptitle('Funky sums')\n",
    "\n",
    "plt.show()\n",
    "'''"
   ]
  },
  {
   "cell_type": "markdown",
   "metadata": {},
   "source": [
    "# EEG data analysis\n",
    " - ## EEG = electroencephalography\n",
    " EEG is an electrophysiology modality where electrodes are placed on the scalp/head to measure fluctuations in bioelectical potentials. Hence, every electrode measures a time-varying signal.\n",
    " \n",
    "  <img src=\"eeg_image.png\" width=\"400\">\n",
    "  <div style=\"text-align: center\"> source: https://brainvision.com/applications/eeg/ </div>"
   ]
  },
  {
   "cell_type": "markdown",
   "metadata": {},
   "source": [
    "Import packages for analysing EEG data"
   ]
  },
  {
   "cell_type": "code",
   "execution_count": null,
   "metadata": {},
   "outputs": [],
   "source": [
    "# Must-haves (and already imported)\n",
    "import numpy as np\n",
    "import matplotlib.pyplot as plt\n",
    "\n",
    "# EEG analysis\n",
    "import mne\n",
    "from mne.preprocessing import ICA\n",
    "from sklearn.decomposition import PCA, FastICA\n",
    "from scipy.stats import zscore\n",
    "from recombinator.block_bootstrap import circular_block_bootstrap as cbb\n",
    "from tensorly.tenalg import khatri_rao as kr"
   ]
  },
  {
   "cell_type": "markdown",
   "metadata": {},
   "source": [
    "Import EEG data using [MNE Python](https://mne.tools/stable/index.html) analysis package. We will be using open-source data which has been reported in:\n",
    "\n",
    "[Babayan, A., Erbey, M., Kumral, D. et al. *A mind-brain-body dataset of MRI, EEG, cognition, emotion, and peripheral physiology in young and old adults.* Sci Data 6, 180308 (2019).](https://www.nature.com/articles/sdata2018308)"
   ]
  },
  {
   "cell_type": "code",
   "execution_count": null,
   "metadata": {},
   "outputs": [],
   "source": [
    "eeg = mne.io.read_raw_eeglab(\"sub-010321_EC_downsamp.set\")\n",
    "\n",
    "eeg.annotations.delete( np.arange( len(eeg.annotations.description) ) )  # remove annotations, not important"
   ]
  },
  {
   "cell_type": "markdown",
   "metadata": {},
   "source": [
    "Our 'eeg' is an instantiation of the class 'RawEEGLAB', which makes 'eeg' an *object*."
   ]
  },
  {
   "cell_type": "code",
   "execution_count": null,
   "metadata": {},
   "outputs": [],
   "source": [
    "eeg"
   ]
  },
  {
   "cell_type": "markdown",
   "metadata": {},
   "source": [
    "Objects usually already have built-in methods:"
   ]
  },
  {
   "cell_type": "code",
   "execution_count": null,
   "metadata": {},
   "outputs": [],
   "source": [
    "dir(eeg)"
   ]
  },
  {
   "cell_type": "markdown",
   "metadata": {},
   "source": [
    "For instance, we can plot the data stored in 'eeg' by calling its *plot* method:"
   ]
  },
  {
   "cell_type": "code",
   "execution_count": null,
   "metadata": {
    "scrolled": true
   },
   "outputs": [],
   "source": [
    "#eeg.plot()"
   ]
  },
  {
   "cell_type": "markdown",
   "metadata": {},
   "source": [
    "We can also display the documentation of the plot method to see what are the plotting options:"
   ]
  },
  {
   "cell_type": "code",
   "execution_count": null,
   "metadata": {},
   "outputs": [],
   "source": [
    "print(eeg.plot.__doc__)"
   ]
  },
  {
   "cell_type": "code",
   "execution_count": null,
   "metadata": {},
   "outputs": [],
   "source": [
    "eeg.plot.__defaults__"
   ]
  },
  {
   "cell_type": "markdown",
   "metadata": {},
   "source": [
    "Let's isolate the default value for the 'n_channels' argument:"
   ]
  },
  {
   "cell_type": "code",
   "execution_count": null,
   "metadata": {},
   "outputs": [],
   "source": [
    "eeg.plot.__defaults__[4]"
   ]
  },
  {
   "cell_type": "markdown",
   "metadata": {},
   "source": [
    "Let's plot our EEG data again, this time changing the number of EEG channels on display:"
   ]
  },
  {
   "cell_type": "code",
   "execution_count": null,
   "metadata": {},
   "outputs": [],
   "source": [
    "eeg.plot(n_channels=10)"
   ]
  },
  {
   "cell_type": "markdown",
   "metadata": {},
   "source": [
    "At this point, our plots are not interactive. We can change the backend of matplotlib to render interactive plots using a *magic command*."
   ]
  },
  {
   "cell_type": "code",
   "execution_count": null,
   "metadata": {},
   "outputs": [],
   "source": [
    "%matplotlib notebook"
   ]
  },
  {
   "cell_type": "code",
   "execution_count": null,
   "metadata": {
    "scrolled": false
   },
   "outputs": [],
   "source": [
    "eeg.plot()"
   ]
  },
  {
   "cell_type": "markdown",
   "metadata": {},
   "source": [
    "We can also display how are the EEG electrodes positioned on the head:"
   ]
  },
  {
   "cell_type": "code",
   "execution_count": null,
   "metadata": {},
   "outputs": [],
   "source": [
    "eeg.plot_sensors(show_names=True)"
   ]
  },
  {
   "cell_type": "markdown",
   "metadata": {},
   "source": [
    "From the time-series plots, it seems that many time-series are alike. Perhaps there's a way to find patterns and have a more succinct representation of our data. One way to find these patterns is to use *Independent Components Analysis* (ICA) on our EEG data:"
   ]
  },
  {
   "cell_type": "code",
   "execution_count": null,
   "metadata": {},
   "outputs": [],
   "source": [
    "num_comps = 15  # choose number of patterns, or \"components\"\n",
    "\n",
    "ica = ICA(n_components=num_comps, random_state=97)\n",
    "ica.fit(eeg)"
   ]
  },
  {
   "cell_type": "markdown",
   "metadata": {},
   "source": [
    "The 'ica' object also contains its own built-in method for plotting the time-series of ICA components:"
   ]
  },
  {
   "cell_type": "code",
   "execution_count": null,
   "metadata": {
    "scrolled": false
   },
   "outputs": [],
   "source": [
    "ica.plot_sources(eeg)"
   ]
  },
  {
   "cell_type": "markdown",
   "metadata": {},
   "source": [
    "Let's also plot the *spatial topographies* of the ICA components:"
   ]
  },
  {
   "cell_type": "code",
   "execution_count": null,
   "metadata": {},
   "outputs": [],
   "source": [
    "ica.plot_components()"
   ]
  },
  {
   "cell_type": "markdown",
   "metadata": {},
   "source": [
    "Now, let's also try *Principal Components Analysis* (PCA). We will need to extract the time-series from our 'eeg' object as MNE does not yet support a built-in method for PCA as it does for ICA."
   ]
  },
  {
   "cell_type": "code",
   "execution_count": null,
   "metadata": {},
   "outputs": [],
   "source": [
    "eeg_ts = eeg.get_data().T"
   ]
  },
  {
   "cell_type": "markdown",
   "metadata": {},
   "source": [
    "Let's display the shape of the EEG data using the built-in *shape* method for Numpy arrays:"
   ]
  },
  {
   "cell_type": "code",
   "execution_count": null,
   "metadata": {},
   "outputs": [],
   "source": [
    "print(\"Shape of EEG data: \", eeg_ts.shape)"
   ]
  },
  {
   "cell_type": "markdown",
   "metadata": {},
   "source": [
    "Run PCA:"
   ]
  },
  {
   "cell_type": "code",
   "execution_count": null,
   "metadata": {},
   "outputs": [],
   "source": [
    "num_comps = 15  # choose number of patterns, or \"components\"\n",
    "\n",
    "pca = PCA(n_components=num_comps)\n",
    "pca_data_ts = pca.fit_transform(eeg_ts.squeeze())"
   ]
  },
  {
   "cell_type": "markdown",
   "metadata": {},
   "source": [
    "Plot patterns extracted by PCA (i.e. patterns of data):"
   ]
  },
  {
   "cell_type": "code",
   "execution_count": null,
   "metadata": {},
   "outputs": [],
   "source": [
    "len_plot = 1000     # choose time-series length for plotting purposes\n",
    "\n",
    "num_plots = pca_data_ts.shape[1]\n",
    "plt.figure(figsize=[9.,9.])\n",
    "\n",
    "for i in range(num_plots):\n",
    "    ax = plt.subplot( num_plots , 1, i+1 )\n",
    "    plt.plot(zscore(pca_data_ts)[:len_plot,i])\n",
    "    \n",
    "    ax.set_ylabel(\"PCA {}\".format(i), fontsize=8, rotation=0)\n",
    "    ax.set_xticks([]); ax.set_yticks([])\n",
    "    ax.spines[\"top\"].set_visible(False)\n",
    "    ax.spines[\"right\"].set_visible(False)\n",
    "    ax.spines[\"left\"].set_visible(False)\n",
    "    ax.spines[\"bottom\"].set_visible(False)\n",
    "    \n",
    "plt.show()\n",
    "plt.tight_layout()"
   ]
  },
  {
   "cell_type": "markdown",
   "metadata": {},
   "source": [
    "It would be nice to evaluate how robust is PCA. In other words, would slight changes to the data translate into slight changes in PCA outputs, or rather lead to quite divergent results? One good way to probe the robustness of an algorithm is through block-bootstrapping.\n",
    "\n",
    "<img src=\"block_bootstrap.png\" width=\"400\">"
   ]
  },
  {
   "cell_type": "code",
   "execution_count": null,
   "metadata": {},
   "outputs": [],
   "source": [
    "#%%timeit\n",
    "\n",
    "block_len = 10000  # choose size of bootstrap blocks\n",
    "num_boots = 50     # choose number of bootstrap replicates\n",
    "\n",
    "eeg_ts_boot = cbb(eeg_ts.squeeze(), block_len, num_boots, replace=True).transpose(1,2,0)"
   ]
  },
  {
   "cell_type": "markdown",
   "metadata": {},
   "source": [
    "Let's plot PCA time-series before and after bootstrapping:"
   ]
  },
  {
   "cell_type": "code",
   "execution_count": null,
   "metadata": {},
   "outputs": [],
   "source": [
    "cmp = 0    # select which PCA component to plot\n",
    "boot = 40  # select which bootstrap iteration to plot\n",
    "len_plot = 1000\n",
    "\n",
    "t = np.arange(len_plot) / eeg.info['sfreq']\n",
    "\n",
    "plt.figure(figsize=[9.,3.])\n",
    "plt.subplot(2,1,1); plt.plot(t, eeg_ts[:len_plot,cmp,0]); plt.title('Before bootstrapping'); plt.yticks([])\n",
    "plt.subplot(2,1,2); plt.plot(t, eeg_ts_boot[:len_plot,ts,boot]); plt.title('After bootstrapping'); plt.yticks([])  # can write commands side-by-side with \";\" semi-colon seperator\n",
    "plt.xlabel('Time (seconds)')\n",
    "\n",
    "plt.show(); plt.tight_layout()"
   ]
  },
  {
   "cell_type": "markdown",
   "metadata": {},
   "source": [
    "The fun part: repeat PCA on the bootstrap EEG data and apply learned PCA model on original EEG data:"
   ]
  },
  {
   "cell_type": "code",
   "execution_count": null,
   "metadata": {},
   "outputs": [],
   "source": [
    "pca_boot_ts = []\n",
    "\n",
    "for boot in range(num_boots):\n",
    "        \n",
    "    pca_boot = PCA(n_components=num_comps)    \n",
    "    pca_boot.fit(eeg_ts_boot[:,:,boot])                         # learn PCA model on bootstrap EEG data\n",
    "    pca_boot_ts.append( pca_boot.transform(eeg_ts.squeeze()) )  # apply PCA model on original EEG data\n",
    "    \n",
    "pca_boot_ts = np.array(pca_boot_ts).transpose(1,2,0)"
   ]
  },
  {
   "cell_type": "markdown",
   "metadata": {},
   "source": [
    "What does applying different bootstrap-based PCA models to the original EEG data look like?"
   ]
  },
  {
   "cell_type": "code",
   "execution_count": null,
   "metadata": {
    "scrolled": false
   },
   "outputs": [],
   "source": [
    "cmp = 1    # select which PCA component to plot\n",
    "\n",
    "plt.figure(figsize=[9.,3.])\n",
    "plt.plot(zscore(pca_boot_ts[:len_plot,cmp,:])); plt.xticks([]); plt.yticks([])\n",
    "plt.show()\n",
    "\n",
    "# save image"
   ]
  },
  {
   "cell_type": "markdown",
   "metadata": {},
   "source": [
    "Seems like we should ensure that time-series are not flipped:"
   ]
  },
  {
   "cell_type": "code",
   "execution_count": null,
   "metadata": {},
   "outputs": [],
   "source": [
    "pca_boot_ts_signcorr = pca_boot_ts.copy()\n",
    "\n",
    "for i in range(pca_data_ts.shape[-1]):\n",
    "    signs = np.corrcoef( pca_data_ts[:,i] , pca_boot_ts[:,i,:].squeeze() , rowvar=False )[0,1:]\n",
    "    pca_boot_ts_signcorr[:,i,:] = kr([ signs[None] , pca_boot_ts[:,i,:].squeeze() ])"
   ]
  },
  {
   "cell_type": "markdown",
   "metadata": {},
   "source": [
    "Plot again:"
   ]
  },
  {
   "cell_type": "code",
   "execution_count": null,
   "metadata": {},
   "outputs": [],
   "source": [
    "cmp = 1    # select which PCA component to plot\n",
    "\n",
    "plt.figure(figsize=[9.,3.])\n",
    "plt.plot(zscore(pca_boot_ts_signcorr[:len_plot,cmp,:])); plt.xticks([]); plt.yticks([])\n",
    "plt.show()"
   ]
  },
  {
   "cell_type": "markdown",
   "metadata": {},
   "source": [
    "Let's now compute the mean and standard deviation across bootstrap iterations for each PCA component:"
   ]
  },
  {
   "cell_type": "code",
   "execution_count": null,
   "metadata": {},
   "outputs": [],
   "source": [
    "mean_boot_ts = np.mean(pca_boot_ts_signcorr, axis=2)\n",
    "std_boot_ts = np.std(pca_boot_ts_signcorr, axis=2)"
   ]
  },
  {
   "cell_type": "markdown",
   "metadata": {},
   "source": [
    "And now plot PCA time-series with bootstrap-based *confidence intervals*:"
   ]
  },
  {
   "cell_type": "code",
   "execution_count": null,
   "metadata": {
    "scrolled": false
   },
   "outputs": [],
   "source": [
    "len_plot = 1000  # choose time-series length for plotting purposes\n",
    "\n",
    "t = np.arange(len_plot)\n",
    "plt.figure(figsize=[9.,9.])\n",
    "\n",
    "for i in range(num_comps):\n",
    "    \n",
    "    y = mean_boot_ts[:len_plot,i]\n",
    "    ci = std_boot_ts[:len_plot,i]\n",
    "    \n",
    "    ax = plt.subplot( num_plots , 1, i+1 )\n",
    "    plt.fill_between(t, (y-ci), (y+ci), color='orange', alpha=0.75)\n",
    "    plt.plot(t, y)\n",
    "    \n",
    "    ax.set_ylabel(\"PCA {}\".format(i), fontsize=8, rotation=0)\n",
    "    ax.set_xticks([]); ax.set_yticks([])\n",
    "    ax.spines[\"top\"].set_visible(False)\n",
    "    ax.spines[\"right\"].set_visible(False)\n",
    "    ax.spines[\"left\"].set_visible(False)\n",
    "    ax.spines[\"bottom\"].set_visible(False)\n",
    "\n",
    "plt.show()\n",
    "plt.tight_layout()"
   ]
  },
  {
   "cell_type": "markdown",
   "metadata": {
    "slideshow": {
     "slide_type": "slide"
    }
   },
   "source": [
    "## Display Python package versions"
   ]
  },
  {
   "cell_type": "markdown",
   "metadata": {
    "slideshow": {
     "slide_type": "slide"
    }
   },
   "source": [
    "Load **watermark** which will allow us to display package versions:"
   ]
  },
  {
   "cell_type": "code",
   "execution_count": null,
   "metadata": {
    "slideshow": {
     "slide_type": "subslide"
    }
   },
   "outputs": [],
   "source": [
    "%load_ext watermark"
   ]
  },
  {
   "cell_type": "markdown",
   "metadata": {
    "slideshow": {
     "slide_type": "slide"
    }
   },
   "source": [
    "Display package versions. Should be the same as in the [requirements.txt](https://github.com/DylanMannKrzisnik/MiCM_W2021_Jupyter/blob/main/requirements.txt) file located within the Github repository:"
   ]
  },
  {
   "cell_type": "code",
   "execution_count": null,
   "metadata": {
    "slideshow": {
     "slide_type": "subslide"
    }
   },
   "outputs": [],
   "source": [
    "%watermark --iversions\n",
    "%watermark -p scipy,recombinator,watermark,sklearn,tensorly"
   ]
  },
  {
   "cell_type": "markdown",
   "metadata": {},
   "source": [
    "## Generate slide presentation from notebook"
   ]
  },
  {
   "cell_type": "markdown",
   "metadata": {},
   "source": [
    "For presentation purposes, we can transform the cells of this notebook into presentation slides. To activate this feature, go to:\n",
    "<br>\n",
    "**View > Cell Toolbar > Slideshow**\n",
    "\n",
    "After setting the slide type of each cell, run the code below. Ensure that the proper name for your notebook is entered (i.e. the filename ending in .ipynb)."
   ]
  },
  {
   "cell_type": "code",
   "execution_count": null,
   "metadata": {},
   "outputs": [],
   "source": [
    "!jupyter nbconvert MiCM_2021_notebook_full.ipynb --to slides --post serve"
   ]
  }
 ],
 "metadata": {
  "kernelspec": {
   "display_name": "Python 3",
   "language": "python",
   "name": "python3"
  },
  "language_info": {
   "codemirror_mode": {
    "name": "ipython",
    "version": 3
   },
   "file_extension": ".py",
   "mimetype": "text/x-python",
   "name": "python",
   "nbconvert_exporter": "python",
   "pygments_lexer": "ipython3",
   "version": "3.7.6"
  }
 },
 "nbformat": 4,
 "nbformat_minor": 4
}
